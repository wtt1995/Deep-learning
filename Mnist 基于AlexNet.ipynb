{
 "cells": [
  {
   "cell_type": "code",
   "execution_count": 1,
   "metadata": {
    "collapsed": true
   },
   "outputs": [],
   "source": [
    "import tensorflow as tf"
   ]
  },
  {
   "cell_type": "code",
   "execution_count": 2,
   "metadata": {},
   "outputs": [
    {
     "name": "stdout",
     "output_type": "stream",
     "text": [
      "WARNING:tensorflow:From <ipython-input-2-f9a967649d6e>:3: read_data_sets (from tensorflow.contrib.learn.python.learn.datasets.mnist) is deprecated and will be removed in a future version.\n",
      "Instructions for updating:\n",
      "Please use alternatives such as official/mnist/dataset.py from tensorflow/models.\n",
      "WARNING:tensorflow:From E:\\Python\\lib\\site-packages\\tensorflow\\contrib\\learn\\python\\learn\\datasets\\mnist.py:260: maybe_download (from tensorflow.contrib.learn.python.learn.datasets.base) is deprecated and will be removed in a future version.\n",
      "Instructions for updating:\n",
      "Please write your own downloading logic.\n",
      "WARNING:tensorflow:From E:\\Python\\lib\\site-packages\\tensorflow\\contrib\\learn\\python\\learn\\datasets\\mnist.py:262: extract_images (from tensorflow.contrib.learn.python.learn.datasets.mnist) is deprecated and will be removed in a future version.\n",
      "Instructions for updating:\n",
      "Please use tf.data to implement this functionality.\n",
      "Extracting MNIST_data/train-images-idx3-ubyte.gz\n",
      "WARNING:tensorflow:From E:\\Python\\lib\\site-packages\\tensorflow\\contrib\\learn\\python\\learn\\datasets\\mnist.py:267: extract_labels (from tensorflow.contrib.learn.python.learn.datasets.mnist) is deprecated and will be removed in a future version.\n",
      "Instructions for updating:\n",
      "Please use tf.data to implement this functionality.\n",
      "Extracting MNIST_data/train-labels-idx1-ubyte.gz\n",
      "WARNING:tensorflow:From E:\\Python\\lib\\site-packages\\tensorflow\\contrib\\learn\\python\\learn\\datasets\\mnist.py:110: dense_to_one_hot (from tensorflow.contrib.learn.python.learn.datasets.mnist) is deprecated and will be removed in a future version.\n",
      "Instructions for updating:\n",
      "Please use tf.one_hot on tensors.\n",
      "Extracting MNIST_data/t10k-images-idx3-ubyte.gz\n",
      "Extracting MNIST_data/t10k-labels-idx1-ubyte.gz\n",
      "WARNING:tensorflow:From E:\\Python\\lib\\site-packages\\tensorflow\\contrib\\learn\\python\\learn\\datasets\\mnist.py:290: DataSet.__init__ (from tensorflow.contrib.learn.python.learn.datasets.mnist) is deprecated and will be removed in a future version.\n",
      "Instructions for updating:\n",
      "Please use alternatives such as official/mnist/dataset.py from tensorflow/models.\n"
     ]
    }
   ],
   "source": [
    "# 输入数据\n",
    "from tensorflow.examples.tutorials.mnist import input_data\n",
    "mnist = input_data.read_data_sets(\"MNIST_data/\",one_hot=True)"
   ]
  },
  {
   "cell_type": "code",
   "execution_count": 3,
   "metadata": {
    "collapsed": true
   },
   "outputs": [],
   "source": [
    "# define some parameters\n",
    "learning_rate = 0.001\n",
    "training_iters = 2000\n",
    "batch_size = 128\n",
    "display_step =10\n",
    "n_input = 784 #(28*28*1)\n",
    "n_classes = 10\n",
    "dropout = 0.75\n",
    "# \n",
    "x = tf.placeholder(tf.float32,[None,n_input])\n",
    "y = tf.placeholder(tf.float32,[None,n_classes])\n",
    "keep_prob = tf.placeholder(tf.float32)"
   ]
  },
  {
   "cell_type": "code",
   "execution_count": 4,
   "metadata": {
    "collapsed": true
   },
   "outputs": [],
   "source": [
    "# define the Alexnet\n",
    "#  functions\n",
    "def conv2d(name,x,W,b,strides=1):\n",
    "    x= tf.nn.conv2d(x,W,strides=[1,strides,strides,1],padding=\"SAME\")\n",
    "    x=tf.nn.bias_add(x,b)\n",
    "    return tf.nn.relu(x,name=name)\n",
    "\n",
    "def maxpool2d(name,x,k=2):\n",
    "    return tf.nn.max_pool(x,ksize=[1,k,k,1],strides=[1,k,k,1],padding=\"SAME\",\n",
    "                          name=name)\n",
    "\n",
    "def norm(name,l_input,lsize=4):\n",
    "    return tf.nn.lrn(l_input, lsize, bias=1.0, alpha=0.001 / 9.0,\n",
    "                     beta=0.75, name=name)"
   ]
  },
  {
   "cell_type": "code",
   "execution_count": 5,
   "metadata": {
    "collapsed": true
   },
   "outputs": [],
   "source": [
    "# define all weights\n",
    "weights={\n",
    "    'w1':tf.Variable(tf.random_normal([11,11,1,96])),\n",
    "    'w2':tf.Variable(tf.random_normal([5,5,96,256])),\n",
    "    'w3':tf.Variable(tf.random_normal([3,3,256,384])),\n",
    "    'w4':tf.Variable(tf.random_normal([3,3,384,384])),\n",
    "    'w5':tf.Variable(tf.random_normal([3,3,384,256])),\n",
    "    'w6':tf.Variable(tf.random_normal([2*2*256,1024])),\n",
    "    'w7':tf.Variable(tf.random_normal([1024,1024])),\n",
    "    'w8':tf.Variable(tf.random_normal([1024,n_classes])),}\n",
    "#define all biases\n",
    "biases = {\n",
    "    'b1': tf.Variable(tf.random_normal([96])),\n",
    "    'b2': tf.Variable(tf.random_normal([256])),\n",
    "    'b3': tf.Variable(tf.random_normal([384])),\n",
    "    'b4': tf.Variable(tf.random_normal([384])),\n",
    "    'b5': tf.Variable(tf.random_normal([256])),\n",
    "    'b6': tf.Variable(tf.random_normal([1024])),\n",
    "    'b7': tf.Variable(tf.random_normal([1024])),\n",
    "    'b8': tf.Variable(tf.random_normal([n_classes]))\n",
    "}"
   ]
  },
  {
   "cell_type": "code",
   "execution_count": 6,
   "metadata": {},
   "outputs": [],
   "source": [
    "# define the Alexnet\n",
    "# 5 conventional layers and 3 fully connected layers\n",
    "def alexNet(x,weights,biases,dropout):\n",
    "    x = tf.reshape(x,shape=[-1,28,28,1]) # Reshape the picture\n",
    "    # C1\n",
    "    conv1 = conv2d('conv1',x,weights['w1'],biases['b1'])\n",
    "    # pool\n",
    "    pool1 = maxpool2d('pool1',conv1,k=2) # (28//2=14)\n",
    "    # norm\n",
    "    norm1 = norm('norm1',pool1,lsize=4)\n",
    "    \n",
    "    # C2\n",
    "    conv2 = conv2d('conv2',norm1,weights['w2'],biases['b2'])\n",
    "    # pool\n",
    "    pool2 = maxpool2d('pool2',conv2,k=2) # (14//2=7)\n",
    "    # norm\n",
    "    norm2 = norm('norm2',pool2,lsize=4)\n",
    "    \n",
    "    # C3\n",
    "    conv3 = conv2d('conv3',norm2,weights['w3'],biases['b3'])\n",
    "    # pool\n",
    "    pool3 = maxpool2d('pool3',conv3,k=2) # (7//2=3.5+1=4)\n",
    "    # norm\n",
    "    norm3 = norm('norm3',pool3,lsize=4)\n",
    "    \n",
    "    # C4\n",
    "    conv4 = conv2d('conv4',norm3,weights['w4'],biases['b4'])\n",
    "    \n",
    "    # C5\n",
    "    conv5 = conv2d('conv5',conv4,weights['w5'],biases['b5'])\n",
    "    # pool\n",
    "    pool5 = maxpool2d('pool5',conv5,k=2) # (4//2=2)\n",
    "    # norm\n",
    "    norm5 = norm('Norm5',pool5,lsize=4)\n",
    "    \n",
    "    ## reshape, some wrong here,change the shape to 32,not 128 why?\n",
    "    xx = tf.reshape(norm5,[-1,weights['w6'].get_shape().as_list()[0]]) ###?\n",
    "#     xx = tf.reshape(norm5,[-1,4*4*256])\n",
    "    # FC1\n",
    "    fc1 = tf.add(tf.matmul(xx,weights['w6']),biases['b6'])\n",
    "    fc1 = tf.nn.relu(fc1)\n",
    "    # dropout\n",
    "    fc1 = tf.nn.dropout(fc1,dropout)\n",
    "    \n",
    "    # FC2\n",
    "    fc2 = tf.reshape(fc1, [-1, weights['w7'].get_shape().as_list()[0]])\n",
    "    fc2 = tf.add(tf.matmul(fc1,weights['w7']),biases['b7'])\n",
    "    fc2 = tf.nn.relu(fc2)\n",
    "    # dropout\n",
    "    fc2 = tf.nn.dropout(fc2,dropout)\n",
    "    \n",
    "    # FC3\n",
    "    fc3 = tf.add(tf.matmul(fc2,weights['w8']),biases['b8'])\n",
    "    \n",
    "    return fc3\n",
    "    \n"
   ]
  },
  {
   "cell_type": "code",
   "execution_count": 7,
   "metadata": {},
   "outputs": [],
   "source": [
    "# build the model \n",
    "pred = alexNet(x,weights,biases,keep_prob)\n",
    "\n",
    "# cost function\n",
    "cost = tf.reduce_mean(tf.nn.softmax_cross_entropy_with_logits_v2(logits=pred,\n",
    "                                                                 labels=y))\n",
    "# optimizer\n",
    "optimizer = tf.train.AdamOptimizer(learning_rate=learning_rate).minimize(cost)\n",
    "\n",
    "# evaluation \n",
    "corrected_pred = tf.equal(tf.argmax(pred,1),tf.argmax(y,1))\n",
    "accuracy = tf.reduce_mean(tf.cast(corrected_pred,tf.float32))\n",
    "\n",
    "# store\n",
    "Loss = [];\n",
    "Acc = [];"
   ]
  },
  {
   "cell_type": "code",
   "execution_count": 9,
   "metadata": {},
   "outputs": [
    {
     "name": "stdout",
     "output_type": "stream",
     "text": [
      "Optimization start:\n",
      "Iter 1280, Minibatch Loss= 6343.009277, Training Accuracy= 0.30469, Training time: 3.96\n",
      "Iter 2560, Minibatch Loss= 3322.373047, Training Accuracy= 0.44531, Training time: 4.28\n",
      "Iter 3840, Minibatch Loss= 1849.596924, Training Accuracy= 0.60156, Training time: 4.00\n",
      "Iter 5120, Minibatch Loss= 639.389954, Training Accuracy= 0.83594, Training time: 3.99\n",
      "Iter 6400, Minibatch Loss= 790.622253, Training Accuracy= 0.81250, Training time: 4.03\n",
      "Iter 7680, Minibatch Loss= 974.000854, Training Accuracy= 0.80469, Training time: 4.07\n",
      "Iter 8960, Minibatch Loss= 713.555115, Training Accuracy= 0.82812, Training time: 3.96\n",
      "Iter 10240, Minibatch Loss= 774.744263, Training Accuracy= 0.78906, Training time: 3.94\n",
      "Iter 11520, Minibatch Loss= 792.385193, Training Accuracy= 0.80469, Training time: 3.96\n",
      "Iter 12800, Minibatch Loss= 532.457031, Training Accuracy= 0.82031, Training time: 3.96\n",
      "Iter 14080, Minibatch Loss= 437.048218, Training Accuracy= 0.88281, Training time: 4.33\n",
      "Iter 15360, Minibatch Loss= 399.921936, Training Accuracy= 0.84375, Training time: 4.19\n",
      "Iter 16640, Minibatch Loss= 383.949219, Training Accuracy= 0.88281, Training time: 4.26\n",
      "Iter 17920, Minibatch Loss= 510.880005, Training Accuracy= 0.86719, Training time: 4.20\n",
      "Iter 19200, Minibatch Loss= 326.121857, Training Accuracy= 0.87500, Training time: 4.49\n",
      "Optimization Finished!\n"
     ]
    }
   ],
   "source": [
    "init = tf.global_variables_initializer()\n",
    "\n",
    "import time\n",
    "with tf.Session() as sess:\n",
    "    sess.run(init)\n",
    "    step = 1\n",
    "    print(\"Optimization start:\")\n",
    "    while step*batch_size < training_iters*10:\n",
    "        t1 = time.time();\n",
    "        batch_x,batch_y = mnist.train.next_batch(batch_size)\n",
    "        sess.run(optimizer,feed_dict={x:batch_x,y:batch_y,keep_prob:dropout})\n",
    "        if step % display_step ==0:\n",
    "            loss, acc =sess.run([cost,accuracy],feed_dict={x:batch_x,y:batch_y,\n",
    "                                                           keep_prob:1.})\n",
    "            Loss.append(loss)\n",
    "            Acc.append(acc)\n",
    "            t2 = time.time()-t1\n",
    "            print(\"Iter \"+str(step*batch_size)+\", Minibatch Loss= \"+\n",
    "                 \"{:.6f}\".format(loss)+\", Training Accuracy= \"+\n",
    "               \"{:.5f}\".format(acc)+\", Training time: {:.2f}\".format(t2))\n",
    "        step +=1\n",
    "    print(\"Optimization Finished!\")\n",
    "            "
   ]
  },
  {
   "cell_type": "code",
   "execution_count": 10,
   "metadata": {},
   "outputs": [
    {
     "data": {
      "image/png": "[encoded data removed]",
      "text/plain": [
       "<Figure size 432x288 with 1 Axes>"
      ]
     },
     "metadata": {},
     "output_type": "display_data"
    },
    {
     "data": {
      "image/png": "[encoded data removed]",
      "text/plain": [
       "<Figure size 432x288 with 1 Axes>"
      ]
     },
     "metadata": {},
     "output_type": "display_data"
    }
   ],
   "source": [
    "import matplotlib.pyplot as plt\n",
    "plt.figure(1)\n",
    "plt.plot(range(len(Loss)),Loss,color='r',lw=3)\n",
    "plt.xlabel('Eopch')\n",
    "plt\n",
    "plt.figure(2)\n",
    "plt.plot(range(len(Acc)),Acc,color='b',lw=3)\n",
    "plt.show()"
   ]
  }
 ],
 "metadata": {
  "kernelspec": {
   "display_name": "Python 3",
   "language": "python",
   "name": "python3"
  },
  "language_info": {
   "codemirror_mode": {
    "name": "ipython",
    "version": 3
   },
   "file_extension": ".py",
   "mimetype": "text/x-python",
   "name": "python",
   "nbconvert_exporter": "python",
   "pygments_lexer": "ipython3",
   "version": "3.6.7"
  }
 },
 "nbformat": 4,
 "nbformat_minor": 2
}
