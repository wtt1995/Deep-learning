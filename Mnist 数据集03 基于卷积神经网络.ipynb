{
 "cells": [
  {
   "cell_type": "code",
   "execution_count": 1,
   "metadata": {
    "collapsed": true
   },
   "outputs": [],
   "source": [
    "import tensorflow as tf\n",
    "from tensorflow.examples.tutorials.mnist import input_data\n",
    "import numpy as np\n",
    "import matplotlib.pyplot as plt"
   ]
  },
  {
   "cell_type": "code",
   "execution_count": 43,
   "metadata": {},
   "outputs": [
    {
     "name": "stdout",
     "output_type": "stream",
     "text": [
      "Extracting MNIST_data/train-images-idx3-ubyte.gz\n",
      "Extracting MNIST_data/train-labels-idx1-ubyte.gz\n",
      "Extracting MNIST_data/t10k-images-idx3-ubyte.gz\n",
      "Extracting MNIST_data/t10k-labels-idx1-ubyte.gz\n"
     ]
    }
   ],
   "source": [
    "mnist = input_data.read_data_sets(\"MNIST_data/\", one_hot=True)\n",
    "trX, trY, teX, teY = mnist.train.images, mnist.train.labels, mnist.test.images,mnist.test.labels"
   ]
  },
  {
   "cell_type": "code",
   "execution_count": 30,
   "metadata": {
    "collapsed": true
   },
   "outputs": [],
   "source": [
    "trX = trX.reshape(-1,28,28,1)\n",
    "teX = teX.reshape(-1,28,28,1)\n",
    "X = tf.placeholder(tf.float32,[None,28,28,1])\n",
    "y = tf.placeholder(tf.float32,[None,10] )\n",
    "keep_hidden = tf.placeholder(dtype=tf.float32)\n",
    "\n",
    "# Conv1\n",
    "kernel_1 = tf.Variable(tf.truncated_normal([3,3,1,32],dtype=tf.float32,stddev=1e-1))\n",
    "conv_1 = tf.nn.conv2d(X,kernel_1,[1,1,1,1],padding='SAME')\n",
    "biases_1 = tf.Variable(tf.constant(0.0,shape=[32],dtype=tf.float32))\n",
    "bais_1 = tf.nn.bias_add(conv_1,biases_1)\n",
    "C1 = tf.nn.relu(bais_1)   # 28*28*32\n",
    "# pool1\n",
    "pool1 = tf.nn.max_pool(C1,[1,2,2,1],[1,2,2,1],padding='SAME') #最大值池化，14*14*32\n",
    "# Conv2\n",
    "kernel_2 = tf.Variable(tf.truncated_normal([3,3,32,64],dtype=tf.float32,stddev=1e-1))\n",
    "conv_2 = tf.nn.conv2d(pool1,kernel_2,[1,1,1,1],padding='SAME')\n",
    "biases_2 = tf.Variable(tf.constant(0.0,shape=[64],dtype=tf.float32))\n",
    "bais_2 = tf.nn.bias_add(conv_2,biases_2)\n",
    "C2 = tf.nn.relu(bais_2)\n",
    "# pool2\n",
    "pool2 = tf.nn.max_pool(C1,[1,2,2,1],[1,2,2,1],padding='SAME') #最大值池化，7*7*64()\n",
    "\n",
    "\n",
    "# 扁平化\n",
    "in_fc = tf.reshape(pool2,[-1,7*7*64*2])  # ??????? 为啥*2？不然怎么是256*10？ 不是128*10？\n",
    "# dropout\n",
    "in_fc = tf.nn.dropout(in_fc,keep_hidden)\n",
    "\n",
    "# Fc3\n",
    "weights = tf.Variable(tf.truncated_normal([7*7*64*2,10],dtype=tf.float32,stddev=1e-1))\n",
    "biases_3 = tf.Variable(tf.constant(0.0,shape=[10],dtype=tf.float32))\n",
    "F = tf.nn.xw_plus_b(in_fc,weights,biases_3)\n",
    "# softmax\n",
    "#F = tf.nn.softmax(F)\n",
    "\n",
    "# loss function\n",
    "loss = tf.reduce_mean(tf.nn.softmax_cross_entropy_with_logits_v2(labels=y,logits=F))\n",
    "\n",
    "# optimizer\n",
    "# 1.SGD\n",
    "#optim_1 = tf.train.GradientDescentOptimizer(0.01).minimize(loss)\n",
    "# 2.Adam\n",
    "optim_1 = tf.train.AdamOptimizer().minimize(loss)\n",
    "# 3.\n",
    "# optim_3 = tf.train.AdadeltaOptimizer().minimize(loss)\n",
    "# predict value\n",
    "predict = tf.argmax(F,1) # axis"
   ]
  },
  {
   "cell_type": "code",
   "execution_count": 31,
   "metadata": {},
   "outputs": [
    {
     "name": "stdout",
     "output_type": "stream",
     "text": [
      "0 0.9609375\n",
      "1 0.984375\n",
      "2 0.9765625\n",
      "3 0.984375\n",
      "4 0.96875\n",
      "5 0.984375\n",
      "6 0.984375\n",
      "7 0.9765625\n",
      "8 0.97265625\n",
      "9 0.984375\n"
     ]
    }
   ],
   "source": [
    "#train\n",
    "batch_size = 128\n",
    "test_size = 256\n",
    "init = tf.global_variables_initializer()   \n",
    "with tf.Session() as sess:\n",
    "    sess.run(init)\n",
    "    for i in range(10):\n",
    "        training_batch = zip(range(0, len(trX), batch_size),\n",
    "                             range(batch_size, len(trX)+1, batch_size))\n",
    "        for start, end in training_batch:\n",
    "            sess.run(optim_1, feed_dict={X: trX[start:end], y: trY[start:end], keep_hidden: 0.5})\n",
    "        \n",
    "        test_indices = np.arange(len(teX))\n",
    "        np.random.shuffle(test_indices) # 打乱顺序函数\n",
    "        test_indices = test_indices[0:test_size]\n",
    "        print(i, np.mean(np.argmax(teY[test_indices], axis=1) ==\n",
    "                         sess.run(predict,feed_dict={X: teX[test_indices],\n",
    "                                                        keep_hidden: 1.0})))\n",
    "        "
   ]
  },
  {
   "cell_type": "code",
   "execution_count": 34,
   "metadata": {},
   "outputs": [
    {
     "data": {
      "image/png": "[encoded data removed]",
      "text/plain": [
       "<Figure size 432x288 with 1 Axes>"
      ]
     },
     "metadata": {},
     "output_type": "display_data"
    }
   ],
   "source": [
    "x1 = [0.83203125,0.90625,0.8828125,0.91796875,0.91796875,0.8984375,0.921875,0.91796875,0.90625,0.890625]\n",
    "x2 = [0.9609375,0.984375,0.9765625,0.984375,0.96875,0.984375,0.984375,0.9765625,0.97265625,0.984375]\n",
    "plt.figure()\n",
    "plt.plot(range(10),x1,color='b',lw=3)\n",
    "plt.plot(range(10),x2,color='r',lw=3)\n",
    "plt.title('SGD VS ADAM')\n",
    "plt.xlabel('Epoch')\n",
    "plt.ylabel('Test accuracy')\n",
    "plt.show()"
   ]
  },
  {
   "cell_type": "code",
   "execution_count": 38,
   "metadata": {},
   "outputs": [
    {
     "data": {
      "text/plain": [
       "(55000, 28, 28, 1)"
      ]
     },
     "execution_count": 38,
     "metadata": {},
     "output_type": "execute_result"
    }
   ],
   "source": [
    "trX.shape"
   ]
  }
 ],
 "metadata": {
  "kernelspec": {
   "display_name": "Python 3",
   "language": "python",
   "name": "python3"
  },
  "language_info": {
   "codemirror_mode": {
    "name": "ipython",
    "version": 3
   },
   "file_extension": ".py",
   "mimetype": "text/x-python",
   "name": "python",
   "nbconvert_exporter": "python",
   "pygments_lexer": "ipython3",
   "version": "3.6.7"
  }
 },
 "nbformat": 4,
 "nbformat_minor": 2
}
